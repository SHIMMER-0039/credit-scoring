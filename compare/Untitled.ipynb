{
 "cells": [
  {
   "cell_type": "code",
   "execution_count": 12,
   "id": "8ade16bf",
   "metadata": {},
   "outputs": [
    {
     "name": "stdout",
     "output_type": "stream",
     "text": [
      "\n",
      "Loaded data from D:\\study\\second\\outcome\\shandong\\shandong_lda_res.pickle\n",
      "f1: 0.18292682926829268\n",
      "\n",
      "Loaded data from D:\\study\\second\\outcome\\shandong\\shandong_lr_res.pickle\n",
      "f1: 0.0\n",
      "\n",
      "Loaded data from D:\\study\\second\\outcome\\shandong\\shandong_dt_res.pickle\n",
      "f1: 0.5391621129326047\n",
      "\n",
      "Loaded data from D:\\study\\second\\outcome\\shandong\\shandong_knn_res.pickle\n",
      "f1: 0.046357615894039736\n",
      "\n",
      "Loaded data from D:\\study\\second\\outcome\\shandong\\shandong_adaboost_res.pickle\n",
      "f1: 0.478494623655914\n",
      "\n",
      "Loaded data from D:\\study\\second\\outcome\\shandong\\shandong_rf_res.pickle\n",
      "f1: 0.625\n",
      "\n",
      "Loaded data from D:\\study\\second\\outcome\\shandong\\shandong_gbdt_res.pickle\n",
      "f1: 0.5340314136125655\n",
      "\n",
      "Loaded data from D:\\study\\second\\outcome\\shandong\\shandong_xgb_res.pickle\n",
      "f1: 0.6169154228855721\n",
      "\n",
      "Loaded data from D:\\study\\second\\outcome\\shandong\\shandong_lgb_res.pickle\n",
      "f1: 0.6588235294117647\n",
      "\n",
      "Loaded data from D:\\study\\second\\outcome\\shandong\\shandong_AAESS_res.pickle\n",
      "f1: 0.6761904761904762\n"
     ]
    }
   ],
   "source": [
    "import pickle\n",
    "\n",
    "file_paths = [\n",
    "\n",
    "    r'D:\\study\\second\\outcome\\shandong\\shandong_lda_res.pickle',\n",
    "    r'D:\\study\\second\\outcome\\shandong\\shandong_lr_res.pickle',\n",
    "    r'D:\\study\\second\\outcome\\shandong\\shandong_dt_res.pickle',\n",
    "    r'D:\\study\\second\\outcome\\shandong\\shandong_knn_res.pickle',\n",
    "    r'D:\\study\\second\\outcome\\shandong\\shandong_adaboost_res.pickle',\n",
    "    r'D:\\study\\second\\outcome\\shandong\\shandong_rf_res.pickle',\n",
    "    r'D:\\study\\second\\outcome\\shandong\\shandong_gbdt_res.pickle',\n",
    "    r'D:\\study\\second\\outcome\\shandong\\shandong_xgb_res.pickle',\n",
    "    r'D:\\study\\second\\outcome\\shandong\\shandong_lgb_res.pickle',\n",
    "    r'D:\\study\\second\\outcome\\shandong\\shandong_AAESS_res.pickle',\n",
    "\n",
    "\n",
    "]\n",
    "\n",
    "# keys = ['auc', 'acc', 'prec', 'rec', 'f1', 'bs', 'fprs', 'tprs', 'e1', 'e2', 'prec_rec', 'ap', 'tpr', 'tnr', 'gmean']\n",
    "keys = ['f1']\n",
    "for file_path in file_paths:\n",
    "    try:\n",
    "        with open(file_path, 'rb') as f:\n",
    "            data = pickle.load(f)\n",
    "            print(f\"\\nLoaded data from {file_path}\")\n",
    "            # print(\"Available keys in the data:\", list(data.keys()))\n",
    "\n",
    "            # 读取每个键的具体值\n",
    "            for key in keys:\n",
    "                if key in data:\n",
    "                    print(f\"{key}: {data[key]}\")\n",
    "                else:\n",
    "                    print(f\"{key} not found in data\")\n",
    "\n",
    "    except Exception as e:\n",
    "        print(f\"Failed to load data from {file_path}: {e}\")\n"
   ]
  },
  {
   "cell_type": "markdown",
   "id": "9d721ecf",
   "metadata": {},
   "source": [
    "# "
   ]
  }
 ],
 "metadata": {
  "kernelspec": {
   "display_name": "Python 3 (ipykernel)",
   "language": "python",
   "name": "python3"
  },
  "language_info": {
   "codemirror_mode": {
    "name": "ipython",
    "version": 3
   },
   "file_extension": ".py",
   "mimetype": "text/x-python",
   "name": "python",
   "nbconvert_exporter": "python",
   "pygments_lexer": "ipython3",
   "version": "3.11.5"
  }
 },
 "nbformat": 4,
 "nbformat_minor": 5
}
